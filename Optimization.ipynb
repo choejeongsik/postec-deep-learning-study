{
  "nbformat": 4,
  "nbformat_minor": 0,
  "metadata": {
    "colab": {
      "name": "Optimization.ipynb",
      "provenance": [],
      "authorship_tag": "ABX9TyOKH8irGJG5BkaoK97suwrF",
      "include_colab_link": true
    },
    "kernelspec": {
      "name": "python3",
      "display_name": "Python 3"
    },
    "language_info": {
      "name": "python"
    },
    "accelerator": "GPU"
  },
  "cells": [
    {
      "cell_type": "markdown",
      "metadata": {
        "id": "view-in-github",
        "colab_type": "text"
      },
      "source": [
        "<a href=\"https://colab.research.google.com/github/choejeongsik/postec-deep-learning-study/blob/main/Optimization.ipynb\" target=\"_parent\"><img src=\"https://colab.research.google.com/assets/colab-badge.svg\" alt=\"Open In Colab\"/></a>"
      ]
    },
    {
      "cell_type": "markdown",
      "source": [
        "# Gradient Decent\n"
      ],
      "metadata": {
        "id": "H9zZvJNt9IDl"
      }
    },
    {
      "cell_type": "code",
      "execution_count": null,
      "metadata": {
        "colab": {
          "base_uri": "https://localhost:8080/"
        },
        "id": "kGf3bNpu8Voo",
        "outputId": "c7f9fcd5-4387-46d8-ecba-4960841ce6d5"
      },
      "outputs": [
        {
          "output_type": "stream",
          "name": "stdout",
          "text": [
            "[[2.98186015]\n",
            " [2.98186015]]\n"
          ]
        }
      ],
      "source": [
        "import numpy as np\n",
        "\n",
        "H = np.matrix([[2,0],[0,2]])\n",
        "g= -np.matrix([[6],[6]])\n",
        "\n",
        "x=np.zeros((2,1))\n",
        "alpha=0.2\n",
        "\n",
        "for _ in range(10):\n",
        "  df = H*x+g\n",
        "  x = x - alpha*df\n",
        "\n",
        "print(x)\n"
      ]
    }
  ]
}